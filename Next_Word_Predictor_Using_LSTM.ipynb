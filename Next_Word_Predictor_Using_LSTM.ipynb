{
  "nbformat": 4,
  "nbformat_minor": 0,
  "metadata": {
    "colab": {
      "provenance": [],
      "gpuType": "T4",
      "authorship_tag": "ABX9TyPgUQ0KZs+mfqqTcAvrNihV",
      "include_colab_link": true
    },
    "kernelspec": {
      "name": "python3",
      "display_name": "Python 3"
    },
    "language_info": {
      "name": "python"
    },
    "accelerator": "GPU"
  },
  "cells": [
    {
      "cell_type": "markdown",
      "metadata": {
        "id": "view-in-github",
        "colab_type": "text"
      },
      "source": [
        "<a href=\"https://colab.research.google.com/github/varun19424/Next_Word_Predictor_Using_LSTM/blob/main/Next_Word_Predictor_Using_LSTM.ipynb\" target=\"_parent\"><img src=\"https://colab.research.google.com/assets/colab-badge.svg\" alt=\"Open In Colab\"/></a>"
      ]
    },
    {
      "cell_type": "code",
      "execution_count": 1,
      "metadata": {
        "id": "LGyIAnscqHVX"
      },
      "outputs": [],
      "source": [
        "import numpy as np\n",
        "import tensorflow as tf\n",
        "from tensorflow.keras.preprocessing.text import Tokenizer\n",
        "from tensorflow.keras.preprocessing.sequence import pad_sequences\n",
        "from tensorflow.keras.models import Sequential\n",
        "from tensorflow.keras.layers import Embedding, LSTM, Dense"
      ]
    },
    {
      "cell_type": "code",
      "source": [
        "with open('sherlock-holm.es_stories_plain-text_advs.txt', 'r', encoding='utf-8') as file:\n",
        "    text = file.read()"
      ],
      "metadata": {
        "id": "Y3AfOQ06qNg6"
      },
      "execution_count": 3,
      "outputs": []
    },
    {
      "cell_type": "code",
      "source": [
        "tokenizer = Tokenizer()\n",
        "tokenizer.fit_on_texts([text])\n",
        "total_words = len(tokenizer.word_index) + 1"
      ],
      "metadata": {
        "id": "SfUlBcyVqQJL"
      },
      "execution_count": 4,
      "outputs": []
    },
    {
      "cell_type": "code",
      "source": [
        "input_sequences = []\n",
        "for line in text.split('\\n'):\n",
        "    token_list = tokenizer.texts_to_sequences([line])[0]\n",
        "    for i in range(1, len(token_list)):\n",
        "        n_gram_sequence = token_list[:i+1]\n",
        "        input_sequences.append(n_gram_sequence)"
      ],
      "metadata": {
        "id": "T5QypzwMqW2w"
      },
      "execution_count": 5,
      "outputs": []
    },
    {
      "cell_type": "code",
      "source": [
        "max_sequence_len = max([len(seq) for seq in input_sequences])\n",
        "input_sequences = np.array(pad_sequences(input_sequences, maxlen=max_sequence_len, padding='pre'))"
      ],
      "metadata": {
        "id": "oYU30P3FqYif"
      },
      "execution_count": 6,
      "outputs": []
    },
    {
      "cell_type": "code",
      "source": [
        "X = input_sequences[:, :-1]\n",
        "y = input_sequences[:, -1]"
      ],
      "metadata": {
        "id": "QwiDlWQsqalc"
      },
      "execution_count": 7,
      "outputs": []
    },
    {
      "cell_type": "code",
      "source": [
        "y = np.array(tf.keras.utils.to_categorical(y, num_classes=total_words))"
      ],
      "metadata": {
        "id": "OshA87hMqcHL"
      },
      "execution_count": 8,
      "outputs": []
    },
    {
      "cell_type": "code",
      "source": [
        "model = Sequential()\n",
        "model.add(Embedding(total_words, 100, input_length=max_sequence_len-1))\n",
        "model.add(LSTM(150))\n",
        "model.add(Dense(total_words, activation='softmax'))\n",
        "print(model.summary())"
      ],
      "metadata": {
        "colab": {
          "base_uri": "https://localhost:8080/"
        },
        "id": "z7Dllmu5qdmt",
        "outputId": "e09b9f99-56f2-4730-b9b9-4a7d2448982b"
      },
      "execution_count": 9,
      "outputs": [
        {
          "output_type": "stream",
          "name": "stdout",
          "text": [
            "Model: \"sequential\"\n",
            "_________________________________________________________________\n",
            " Layer (type)                Output Shape              Param #   \n",
            "=================================================================\n",
            " embedding (Embedding)       (None, 17, 100)           820000    \n",
            "                                                                 \n",
            " lstm (LSTM)                 (None, 150)               150600    \n",
            "                                                                 \n",
            " dense (Dense)               (None, 8200)              1238200   \n",
            "                                                                 \n",
            "=================================================================\n",
            "Total params: 2208800 (8.43 MB)\n",
            "Trainable params: 2208800 (8.43 MB)\n",
            "Non-trainable params: 0 (0.00 Byte)\n",
            "_________________________________________________________________\n",
            "None\n"
          ]
        }
      ]
    },
    {
      "cell_type": "code",
      "source": [
        "model.compile(loss='categorical_crossentropy', optimizer='adam', metrics=['accuracy'])\n",
        "model.fit(X, y, epochs=100, verbose=1)"
      ],
      "metadata": {
        "colab": {
          "base_uri": "https://localhost:8080/"
        },
        "id": "T6rH3JE4qfSn",
        "outputId": "68e5cfd8-8f78-40bf-b355-b2609e81c8b8"
      },
      "execution_count": 10,
      "outputs": [
        {
          "output_type": "stream",
          "name": "stdout",
          "text": [
            "Epoch 1/100\n",
            "3010/3010 [==============================] - 35s 11ms/step - loss: 6.2482 - accuracy: 0.0749\n",
            "Epoch 2/100\n",
            "3010/3010 [==============================] - 22s 7ms/step - loss: 5.5210 - accuracy: 0.1232\n",
            "Epoch 3/100\n",
            "3010/3010 [==============================] - 20s 7ms/step - loss: 5.1260 - accuracy: 0.1486\n",
            "Epoch 4/100\n",
            "3010/3010 [==============================] - 21s 7ms/step - loss: 4.7920 - accuracy: 0.1665\n",
            "Epoch 5/100\n",
            "3010/3010 [==============================] - 20s 7ms/step - loss: 4.4846 - accuracy: 0.1833\n",
            "Epoch 6/100\n",
            "3010/3010 [==============================] - 20s 7ms/step - loss: 4.1925 - accuracy: 0.2031\n",
            "Epoch 7/100\n",
            "3010/3010 [==============================] - 20s 7ms/step - loss: 3.9162 - accuracy: 0.2289\n",
            "Epoch 8/100\n",
            "3010/3010 [==============================] - 20s 6ms/step - loss: 3.6556 - accuracy: 0.2596\n",
            "Epoch 9/100\n",
            "3010/3010 [==============================] - 19s 6ms/step - loss: 3.4100 - accuracy: 0.2934\n",
            "Epoch 10/100\n",
            "3010/3010 [==============================] - 20s 7ms/step - loss: 3.1815 - accuracy: 0.3272\n",
            "Epoch 11/100\n",
            "3010/3010 [==============================] - 20s 7ms/step - loss: 2.9690 - accuracy: 0.3637\n",
            "Epoch 12/100\n",
            "3010/3010 [==============================] - 20s 7ms/step - loss: 2.7733 - accuracy: 0.3993\n",
            "Epoch 13/100\n",
            "3010/3010 [==============================] - 20s 7ms/step - loss: 2.5938 - accuracy: 0.4339\n",
            "Epoch 14/100\n",
            "3010/3010 [==============================] - 19s 6ms/step - loss: 2.4281 - accuracy: 0.4664\n",
            "Epoch 15/100\n",
            "3010/3010 [==============================] - 20s 7ms/step - loss: 2.2754 - accuracy: 0.4966\n",
            "Epoch 16/100\n",
            "3010/3010 [==============================] - 20s 7ms/step - loss: 2.1368 - accuracy: 0.5264\n",
            "Epoch 17/100\n",
            "3010/3010 [==============================] - 19s 6ms/step - loss: 2.0093 - accuracy: 0.5519\n",
            "Epoch 18/100\n",
            "3010/3010 [==============================] - 20s 7ms/step - loss: 1.8935 - accuracy: 0.5753\n",
            "Epoch 19/100\n",
            "3010/3010 [==============================] - 20s 7ms/step - loss: 1.7848 - accuracy: 0.5994\n",
            "Epoch 20/100\n",
            "3010/3010 [==============================] - 20s 7ms/step - loss: 1.6861 - accuracy: 0.6204\n",
            "Epoch 21/100\n",
            "3010/3010 [==============================] - 20s 7ms/step - loss: 1.5967 - accuracy: 0.6391\n",
            "Epoch 22/100\n",
            "3010/3010 [==============================] - 20s 7ms/step - loss: 1.5146 - accuracy: 0.6572\n",
            "Epoch 23/100\n",
            "3010/3010 [==============================] - 20s 7ms/step - loss: 1.4375 - accuracy: 0.6731\n",
            "Epoch 24/100\n",
            "3010/3010 [==============================] - 21s 7ms/step - loss: 1.3659 - accuracy: 0.6896\n",
            "Epoch 25/100\n",
            "3010/3010 [==============================] - 21s 7ms/step - loss: 1.3016 - accuracy: 0.7039\n",
            "Epoch 26/100\n",
            "3010/3010 [==============================] - 21s 7ms/step - loss: 1.2439 - accuracy: 0.7167\n",
            "Epoch 27/100\n",
            "3010/3010 [==============================] - 21s 7ms/step - loss: 1.1882 - accuracy: 0.7291\n",
            "Epoch 28/100\n",
            "3010/3010 [==============================] - 21s 7ms/step - loss: 1.1372 - accuracy: 0.7410\n",
            "Epoch 29/100\n",
            "3010/3010 [==============================] - 21s 7ms/step - loss: 1.0930 - accuracy: 0.7494\n",
            "Epoch 30/100\n",
            "3010/3010 [==============================] - 20s 7ms/step - loss: 1.0494 - accuracy: 0.7604\n",
            "Epoch 31/100\n",
            "3010/3010 [==============================] - 21s 7ms/step - loss: 1.0127 - accuracy: 0.7672\n",
            "Epoch 32/100\n",
            "3010/3010 [==============================] - 20s 7ms/step - loss: 0.9724 - accuracy: 0.7769\n",
            "Epoch 33/100\n",
            "3010/3010 [==============================] - 20s 7ms/step - loss: 0.9430 - accuracy: 0.7827\n",
            "Epoch 34/100\n",
            "3010/3010 [==============================] - 20s 7ms/step - loss: 0.9112 - accuracy: 0.7903\n",
            "Epoch 35/100\n",
            "3010/3010 [==============================] - 21s 7ms/step - loss: 0.8822 - accuracy: 0.7965\n",
            "Epoch 36/100\n",
            "3010/3010 [==============================] - 21s 7ms/step - loss: 0.8578 - accuracy: 0.8014\n",
            "Epoch 37/100\n",
            "3010/3010 [==============================] - 21s 7ms/step - loss: 0.8303 - accuracy: 0.8079\n",
            "Epoch 38/100\n",
            "3010/3010 [==============================] - 21s 7ms/step - loss: 0.8117 - accuracy: 0.8118\n",
            "Epoch 39/100\n",
            "3010/3010 [==============================] - 21s 7ms/step - loss: 0.7883 - accuracy: 0.8165\n",
            "Epoch 40/100\n",
            "3010/3010 [==============================] - 20s 7ms/step - loss: 0.7704 - accuracy: 0.8194\n",
            "Epoch 41/100\n",
            "3010/3010 [==============================] - 20s 7ms/step - loss: 0.7544 - accuracy: 0.8227\n",
            "Epoch 42/100\n",
            "3010/3010 [==============================] - 20s 7ms/step - loss: 0.7341 - accuracy: 0.8279\n",
            "Epoch 43/100\n",
            "3010/3010 [==============================] - 20s 7ms/step - loss: 0.7202 - accuracy: 0.8300\n",
            "Epoch 44/100\n",
            "3010/3010 [==============================] - 20s 7ms/step - loss: 0.7076 - accuracy: 0.8338\n",
            "Epoch 45/100\n",
            "3010/3010 [==============================] - 20s 7ms/step - loss: 0.6921 - accuracy: 0.8366\n",
            "Epoch 46/100\n",
            "3010/3010 [==============================] - 19s 6ms/step - loss: 0.6831 - accuracy: 0.8379\n",
            "Epoch 47/100\n",
            "3010/3010 [==============================] - 20s 7ms/step - loss: 0.6679 - accuracy: 0.8419\n",
            "Epoch 48/100\n",
            "3010/3010 [==============================] - 20s 6ms/step - loss: 0.6612 - accuracy: 0.8419\n",
            "Epoch 49/100\n",
            "3010/3010 [==============================] - 20s 6ms/step - loss: 0.6499 - accuracy: 0.8448\n",
            "Epoch 50/100\n",
            "3010/3010 [==============================] - 20s 7ms/step - loss: 0.6395 - accuracy: 0.8462\n",
            "Epoch 51/100\n",
            "3010/3010 [==============================] - 20s 7ms/step - loss: 0.6332 - accuracy: 0.8479\n",
            "Epoch 52/100\n",
            "3010/3010 [==============================] - 20s 7ms/step - loss: 0.6268 - accuracy: 0.8481\n",
            "Epoch 53/100\n",
            "3010/3010 [==============================] - 20s 7ms/step - loss: 0.6200 - accuracy: 0.8498\n",
            "Epoch 54/100\n",
            "3010/3010 [==============================] - 19s 6ms/step - loss: 0.6120 - accuracy: 0.8506\n",
            "Epoch 55/100\n",
            "3010/3010 [==============================] - 20s 7ms/step - loss: 0.6064 - accuracy: 0.8522\n",
            "Epoch 56/100\n",
            "3010/3010 [==============================] - 20s 7ms/step - loss: 0.6007 - accuracy: 0.8531\n",
            "Epoch 57/100\n",
            "3010/3010 [==============================] - 20s 6ms/step - loss: 0.5913 - accuracy: 0.8555\n",
            "Epoch 58/100\n",
            "3010/3010 [==============================] - 20s 7ms/step - loss: 0.5896 - accuracy: 0.8555\n",
            "Epoch 59/100\n",
            "3010/3010 [==============================] - 20s 7ms/step - loss: 0.5849 - accuracy: 0.8567\n",
            "Epoch 60/100\n",
            "3010/3010 [==============================] - 19s 6ms/step - loss: 0.5781 - accuracy: 0.8583\n",
            "Epoch 61/100\n",
            "3010/3010 [==============================] - 20s 7ms/step - loss: 0.5740 - accuracy: 0.8584\n",
            "Epoch 62/100\n",
            "3010/3010 [==============================] - 19s 6ms/step - loss: 0.5683 - accuracy: 0.8597\n",
            "Epoch 63/100\n",
            "3010/3010 [==============================] - 20s 7ms/step - loss: 0.5649 - accuracy: 0.8594\n",
            "Epoch 64/100\n",
            "3010/3010 [==============================] - 20s 7ms/step - loss: 0.5644 - accuracy: 0.8590\n",
            "Epoch 65/100\n",
            "3010/3010 [==============================] - 19s 6ms/step - loss: 0.5585 - accuracy: 0.8608\n",
            "Epoch 66/100\n",
            "3010/3010 [==============================] - 20s 7ms/step - loss: 0.5557 - accuracy: 0.8608\n",
            "Epoch 67/100\n",
            "3010/3010 [==============================] - 20s 7ms/step - loss: 0.5528 - accuracy: 0.8615\n",
            "Epoch 68/100\n",
            "3010/3010 [==============================] - 19s 6ms/step - loss: 0.5478 - accuracy: 0.8621\n",
            "Epoch 69/100\n",
            "3010/3010 [==============================] - 20s 7ms/step - loss: 0.5532 - accuracy: 0.8604\n",
            "Epoch 70/100\n",
            "3010/3010 [==============================] - 20s 7ms/step - loss: 0.5493 - accuracy: 0.8614\n",
            "Epoch 71/100\n",
            "3010/3010 [==============================] - 20s 7ms/step - loss: 0.5391 - accuracy: 0.8640\n",
            "Epoch 72/100\n",
            "3010/3010 [==============================] - 21s 7ms/step - loss: 0.5386 - accuracy: 0.8644\n",
            "Epoch 73/100\n",
            "3010/3010 [==============================] - 21s 7ms/step - loss: 0.5446 - accuracy: 0.8618\n",
            "Epoch 74/100\n",
            "3010/3010 [==============================] - 21s 7ms/step - loss: 0.5358 - accuracy: 0.8637\n",
            "Epoch 75/100\n",
            "3010/3010 [==============================] - 21s 7ms/step - loss: 0.5341 - accuracy: 0.8646\n",
            "Epoch 76/100\n",
            "3010/3010 [==============================] - 21s 7ms/step - loss: 0.5369 - accuracy: 0.8624\n",
            "Epoch 77/100\n",
            "3010/3010 [==============================] - 21s 7ms/step - loss: 0.5340 - accuracy: 0.8647\n",
            "Epoch 78/100\n",
            "3010/3010 [==============================] - 20s 7ms/step - loss: 0.5329 - accuracy: 0.8636\n",
            "Epoch 79/100\n",
            "3010/3010 [==============================] - 21s 7ms/step - loss: 0.5287 - accuracy: 0.8650\n",
            "Epoch 80/100\n",
            "3010/3010 [==============================] - 21s 7ms/step - loss: 0.5290 - accuracy: 0.8637\n",
            "Epoch 81/100\n",
            "3010/3010 [==============================] - 21s 7ms/step - loss: 0.5230 - accuracy: 0.8655\n",
            "Epoch 82/100\n",
            "3010/3010 [==============================] - 20s 7ms/step - loss: 0.5194 - accuracy: 0.8672\n",
            "Epoch 83/100\n",
            "3010/3010 [==============================] - 21s 7ms/step - loss: 0.5207 - accuracy: 0.8662\n",
            "Epoch 84/100\n",
            "3010/3010 [==============================] - 20s 7ms/step - loss: 0.5179 - accuracy: 0.8663\n",
            "Epoch 85/100\n",
            "3010/3010 [==============================] - 19s 6ms/step - loss: 0.5216 - accuracy: 0.8654\n",
            "Epoch 86/100\n",
            "3010/3010 [==============================] - 20s 7ms/step - loss: 0.5217 - accuracy: 0.8646\n",
            "Epoch 87/100\n",
            "3010/3010 [==============================] - 20s 7ms/step - loss: 0.5147 - accuracy: 0.8670\n",
            "Epoch 88/100\n",
            "3010/3010 [==============================] - 20s 7ms/step - loss: 0.5194 - accuracy: 0.8646\n",
            "Epoch 89/100\n",
            "3010/3010 [==============================] - 20s 7ms/step - loss: 0.5139 - accuracy: 0.8656\n",
            "Epoch 90/100\n",
            "3010/3010 [==============================] - 21s 7ms/step - loss: 0.5153 - accuracy: 0.8663\n",
            "Epoch 91/100\n",
            "3010/3010 [==============================] - 20s 7ms/step - loss: 0.5116 - accuracy: 0.8667\n",
            "Epoch 92/100\n",
            "3010/3010 [==============================] - 20s 7ms/step - loss: 0.5125 - accuracy: 0.8660\n",
            "Epoch 93/100\n",
            "3010/3010 [==============================] - 20s 7ms/step - loss: 0.5144 - accuracy: 0.8644\n",
            "Epoch 94/100\n",
            "3010/3010 [==============================] - 20s 7ms/step - loss: 0.5096 - accuracy: 0.8672\n",
            "Epoch 95/100\n",
            "3010/3010 [==============================] - 21s 7ms/step - loss: 0.5091 - accuracy: 0.8677\n",
            "Epoch 96/100\n",
            "3010/3010 [==============================] - 20s 7ms/step - loss: 0.5122 - accuracy: 0.8656\n",
            "Epoch 97/100\n",
            "3010/3010 [==============================] - 20s 7ms/step - loss: 0.5044 - accuracy: 0.8674\n",
            "Epoch 98/100\n",
            "3010/3010 [==============================] - 21s 7ms/step - loss: 0.5109 - accuracy: 0.8649\n",
            "Epoch 99/100\n",
            "3010/3010 [==============================] - 21s 7ms/step - loss: 0.5063 - accuracy: 0.8659\n",
            "Epoch 100/100\n",
            "3010/3010 [==============================] - 20s 7ms/step - loss: 0.5050 - accuracy: 0.8675\n"
          ]
        },
        {
          "output_type": "execute_result",
          "data": {
            "text/plain": [
              "<keras.src.callbacks.History at 0x7a73800939a0>"
            ]
          },
          "metadata": {},
          "execution_count": 10
        }
      ]
    },
    {
      "cell_type": "code",
      "source": [
        "seed_text = \"To Sherlock Holmes she is\"\n",
        "next_words = 10\n",
        "\n",
        "for _ in range(next_words):\n",
        "    token_list = tokenizer.texts_to_sequences([seed_text])[0]\n",
        "    token_list = pad_sequences([token_list], maxlen=max_sequence_len-1, padding='pre')\n",
        "    predicted = np.argmax(model.predict(token_list), axis=-1)\n",
        "    output_word = \"\"\n",
        "    for word, index in tokenizer.word_index.items():\n",
        "        if index == predicted:\n",
        "            output_word = word\n",
        "            break\n",
        "    seed_text += \" \" + output_word\n",
        "\n",
        "print(seed_text)"
      ],
      "metadata": {
        "colab": {
          "base_uri": "https://localhost:8080/"
        },
        "id": "yLEXT-WxqiCK",
        "outputId": "124d605a-e3ea-43b6-aa99-96bbb23f6323"
      },
      "execution_count": 13,
      "outputs": [
        {
          "output_type": "stream",
          "name": "stdout",
          "text": [
            "1/1 [==============================] - 0s 17ms/step\n",
            "1/1 [==============================] - 0s 17ms/step\n",
            "1/1 [==============================] - 0s 17ms/step\n",
            "1/1 [==============================] - 0s 17ms/step\n",
            "1/1 [==============================] - 0s 17ms/step\n",
            "1/1 [==============================] - 0s 17ms/step\n",
            "1/1 [==============================] - 0s 19ms/step\n",
            "1/1 [==============================] - 0s 18ms/step\n",
            "1/1 [==============================] - 0s 17ms/step\n",
            "1/1 [==============================] - 0s 18ms/step\n",
            "To Sherlock Holmes she is always the woman i have seldom heard my father i\n"
          ]
        }
      ]
    },
    {
      "cell_type": "code",
      "source": [],
      "metadata": {
        "id": "3YFHkUpOydE5"
      },
      "execution_count": null,
      "outputs": []
    }
  ]
}